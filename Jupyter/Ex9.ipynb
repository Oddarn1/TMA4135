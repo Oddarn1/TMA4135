{
 "cells": [
  {
   "cell_type": "code",
   "execution_count": 10,
   "metadata": {
    "ExecuteTime": {
     "end_time": "2019-10-29T19:08:45.591445Z",
     "start_time": "2019-10-29T19:08:44.667560Z"
    }
   },
   "outputs": [],
   "source": [
    "%matplotlib inline\n",
    "\n",
    "from numpy import *\n",
    "from numpy.linalg import solve, norm\n",
    "from matplotlib.pyplot import *\n",
    "newparams = {'figure.figsize': (8.0, 4.0), 'axes.grid': True,\n",
    "             'lines.markersize': 8, 'lines.linewidth': 2,\n",
    "             'font.size': 14}\n",
    "rcParams.update(newparams)"
   ]
  },
  {
   "cell_type": "code",
   "execution_count": 2,
   "metadata": {
    "ExecuteTime": {
     "end_time": "2019-10-29T12:41:12.125985Z",
     "start_time": "2019-10-29T12:41:12.119443Z"
    }
   },
   "outputs": [],
   "source": [
    "def simpson(f, a, b, m=10):\n",
    "    n = 2 * m\n",
    "    x_noder = linspace(a, b, n + 1) \n",
    "    h = (b - a) / n\n",
    "    S1 = f(x_noder[0]) + f(x_noder[n])\n",
    "    S2 = sum(f(x_noder[1:n:2]))       \n",
    "    S3 = sum(f(x_noder[2:n - 1:2]))     \n",
    "    S = h * (S1 + 4 * S2 + 2 * S3) / 3\n",
    "    return S"
   ]
  },
  {
   "cell_type": "code",
   "execution_count": 10,
   "metadata": {
    "ExecuteTime": {
     "end_time": "2019-10-29T12:48:06.938083Z",
     "start_time": "2019-10-29T12:48:06.926550Z"
    }
   },
   "outputs": [],
   "source": [
    "def approximate_for_different_h(f, a, b, exact):\n",
    "    n = 1\n",
    "    h = (b - a ) / n\n",
    "    steps = []\n",
    "    errors = []\n",
    "    Nmax = 10\n",
    "    for k in range(Nmax):\n",
    "        simp = simpson(f, a, b, n)\n",
    "        eh = abs(exact - simp)\n",
    "        print(f'h = {h:8.2e},   T(h) = {simp:10.8f},   e(h) = {eh:8.2e}')\n",
    "        steps.append(h)\n",
    "        errors.append(eh)\n",
    "        n = 2 * n\n",
    "        h = (b - a) / n\n",
    "\n",
    "    print('\\nOrder P and constant C')\n",
    "    for k in range(1, Nmax-1):\n",
    "        p = log(errors[k+1]/errors[k])/log(steps[k+1]/steps[k])\n",
    "        C = errors[k+1]/steps[k+1]**p\n",
    "        print(f'h = {steps[k]:8.2e},  p = {p:4.2f},  C = {C:6.4f}')\n",
    "\n",
    "    clf()\n",
    "    loglog(steps, errors, 'o-')\n",
    "    xlabel('h')\n",
    "    ylabel('e(h)')\n",
    "    grid(True)"
   ]
  },
  {
   "cell_type": "markdown",
   "metadata": {},
   "source": [
    "# 1a"
   ]
  },
  {
   "cell_type": "code",
   "execution_count": 29,
   "metadata": {
    "ExecuteTime": {
     "end_time": "2019-10-29T13:28:31.540406Z",
     "start_time": "2019-10-29T13:28:30.013294Z"
    },
    "scrolled": true
   },
   "outputs": [
    {
     "name": "stdout",
     "output_type": "stream",
     "text": [
      "h = 2.00e+00,   T(h) = 0.78346746,   e(h) = 4.77e-02\n",
      "h = 1.00e+00,   T(h) = 0.73913060,   e(h) = 3.37e-03\n",
      "h = 5.00e-01,   T(h) = 0.73597650,   e(h) = 2.18e-04\n",
      "h = 2.50e-01,   T(h) = 0.73577259,   e(h) = 1.37e-05\n",
      "h = 1.25e-01,   T(h) = 0.73575974,   e(h) = 8.59e-07\n",
      "h = 6.25e-02,   T(h) = 0.73575894,   e(h) = 5.37e-08\n",
      "h = 3.12e-02,   T(h) = 0.73575889,   e(h) = 3.36e-09\n",
      "h = 1.56e-02,   T(h) = 0.73575888,   e(h) = 2.10e-10\n",
      "h = 7.81e-03,   T(h) = 0.73575888,   e(h) = 1.31e-11\n",
      "h = 3.91e-03,   T(h) = 0.73575888,   e(h) = 8.19e-13\n",
      "\n",
      "Order P and constant C\n",
      "h = 1.00e+00,  p = 3.95,  C = 0.0034\n",
      "h = 5.00e-01,  p = 3.99,  C = 0.0035\n",
      "h = 2.50e-01,  p = 4.00,  C = 0.0035\n",
      "h = 1.25e-01,  p = 4.00,  C = 0.0035\n",
      "h = 6.25e-02,  p = 4.00,  C = 0.0035\n",
      "h = 3.12e-02,  p = 4.00,  C = 0.0035\n",
      "h = 1.56e-02,  p = 4.00,  C = 0.0035\n",
      "h = 7.81e-03,  p = 4.00,  C = 0.0035\n"
     ]
    },
    {
     "data": {
      "image/png": "[encoded data removed]",
      "text/plain": [
       "<Figure size 576x288 with 1 Axes>"
      ]
     },
     "metadata": {
      "needs_background": "light"
     },
     "output_type": "display_data"
    }
   ],
   "source": [
    "newparams = {'figure.figsize': (8.0, 4.0), 'axes.grid': True,\n",
    "             'lines.markersize': 8, 'lines.linewidth': 2,\n",
    "             'font.size': 14}\n",
    "rcParams.update(newparams)\n",
    "\n",
    "def f1(x):\n",
    "    return x * exp(x)\n",
    "\n",
    "a, b = -1, 1\n",
    "exact = 2 / exp(1)\n",
    "approximate_for_different_h(f1, a, b, exact)"
   ]
  },
  {
   "cell_type": "markdown",
   "metadata": {
    "heading_collapsed": true
   },
   "source": [
    "# 1b"
   ]
  },
  {
   "cell_type": "code",
   "execution_count": 13,
   "metadata": {
    "ExecuteTime": {
     "end_time": "2019-10-29T12:49:25.833895Z",
     "start_time": "2019-10-29T12:49:23.970550Z"
    },
    "hidden": true
   },
   "outputs": [
    {
     "name": "stdout",
     "output_type": "stream",
     "text": [
      "h = 2.00e+00,   T(h) = 1.33333333,   e(h) = 4.42e-01\n",
      "h = 1.00e+00,   T(h) = 1.63540364,   e(h) = 1.40e-01\n",
      "h = 5.00e-01,   T(h) = 1.72886020,   e(h) = 4.66e-02\n",
      "h = 2.50e-01,   T(h) = 1.75945841,   e(h) = 1.60e-02\n",
      "h = 1.25e-01,   T(h) = 1.76989907,   e(h) = 5.60e-03\n",
      "h = 6.25e-02,   T(h) = 1.77353123,   e(h) = 1.97e-03\n",
      "h = 3.12e-02,   T(h) = 1.77480571,   e(h) = 6.94e-04\n",
      "h = 1.56e-02,   T(h) = 1.77525467,   e(h) = 2.45e-04\n",
      "h = 7.81e-03,   T(h) = 1.77541312,   e(h) = 8.66e-05\n",
      "h = 3.91e-03,   T(h) = 1.77546909,   e(h) = 3.06e-05\n",
      "\n",
      "Order P and constant C\n",
      "h = 1.00e+00,  p = 1.59,  C = 0.1401\n",
      "h = 5.00e-01,  p = 1.54,  C = 0.1356\n",
      "h = 2.50e-01,  p = 1.52,  C = 0.1316\n",
      "h = 1.25e-01,  p = 1.51,  C = 0.1290\n",
      "h = 6.25e-02,  p = 1.50,  C = 0.1274\n",
      "h = 3.12e-02,  p = 1.50,  C = 0.1265\n",
      "h = 1.56e-02,  p = 1.50,  C = 0.1260\n",
      "h = 7.81e-03,  p = 1.50,  C = 0.1257\n"
     ]
    },
    {
     "data": {
      "image/png": "[encoded data removed]",
      "text/plain": [
       "<Figure size 432x288 with 1 Axes>"
      ]
     },
     "metadata": {
      "needs_background": "light"
     },
     "output_type": "display_data"
    }
   ],
   "source": [
    "def f2(x):\n",
    "    return sqrt(1 - x ** 2) * exp(x)\n",
    "\n",
    "a, b = -1, 1\n",
    "exact = 1.7754996892121809469\n",
    "approximate_for_different_h(f2, a, b, exact)"
   ]
  },
  {
   "cell_type": "code",
   "execution_count": 16,
   "metadata": {
    "ExecuteTime": {
     "end_time": "2019-10-29T12:51:34.714413Z",
     "start_time": "2019-10-29T12:51:33.189885Z"
    },
    "hidden": true
   },
   "outputs": [
    {
     "data": {
      "image/png": "[encoded data removed]",
      "text/plain": [
       "<Figure size 1152x576 with 2 Axes>"
      ]
     },
     "metadata": {
      "needs_background": "light"
     },
     "output_type": "display_data"
    }
   ],
   "source": [
    "newparams = {'figure.figsize': (16.0, 8.0), 'axes.grid': True,\n",
    "             'lines.markersize': 8, 'lines.linewidth': 2,\n",
    "             'font.size': 14}\n",
    "rcParams.update(newparams)\n",
    "\n",
    "x = linspace(a, b, 101)\n",
    "\n",
    "subplot(1,2,1)                  \n",
    "plot(x, f1(x))\n",
    "xlabel('x')\n",
    "ylabel('f1(x)')\n",
    "\n",
    "subplot(1,2,2)\n",
    "plot(x, f2(x))\n",
    "xlabel('x')\n",
    "ylabel('f2(x)');"
   ]
  },
  {
   "cell_type": "markdown",
   "metadata": {},
   "source": [
    "# 3a"
   ]
  },
  {
   "cell_type": "code",
   "execution_count": 17,
   "metadata": {
    "ExecuteTime": {
     "end_time": "2019-10-29T13:05:00.460944Z",
     "start_time": "2019-10-29T13:04:59.595659Z"
    }
   },
   "outputs": [
    {
     "data": {
      "image/png": "[encoded data removed]",
      "text/plain": [
       "<Figure size 1152x576 with 1 Axes>"
      ]
     },
     "metadata": {
      "needs_background": "light"
     },
     "output_type": "display_data"
    }
   ],
   "source": [
    "def f(x):\n",
    "    return exp(x) + x**2 - x - 4\n",
    "\n",
    "x = linspace(1, 2, 101)\n",
    "plot(x, f(x))\n",
    "xlabel('x')\n",
    "ylabel('f(x)');"
   ]
  },
  {
   "cell_type": "code",
   "execution_count": 18,
   "metadata": {
    "ExecuteTime": {
     "end_time": "2019-10-29T13:15:20.646859Z",
     "start_time": "2019-10-29T13:15:20.635527Z"
    }
   },
   "outputs": [],
   "source": [
    "def newton(f, df, x0, tol=1.e-8, max_iter=30):\n",
    "    x = x0\n",
    "    print('k ={:3d}, x = {:18.15f}, f(x) = {:10.3e}'.format(0, x, f(x)))\n",
    "    for k in range(max_iter):\n",
    "        fx = f(x)\n",
    "        if abs(fx) < tol:\n",
    "            break \n",
    "        x = x - fx/df(x)\n",
    "        print('k ={:3d}, x = {:18.15f}, f(x) = {:10.3e}'.format(k+1, x, f(x)))\n",
    "    return x, k+1"
   ]
  },
  {
   "cell_type": "code",
   "execution_count": 19,
   "metadata": {
    "ExecuteTime": {
     "end_time": "2019-10-29T13:15:52.989755Z",
     "start_time": "2019-10-29T13:15:52.980539Z"
    }
   },
   "outputs": [
    {
     "name": "stdout",
     "output_type": "stream",
     "text": [
      "k =  0, x =  1.300000000000000, f(x) =  5.930e-02\n",
      "k =  1, x =  1.288746758560088, f(x) =  3.581e-04\n",
      "k =  2, x =  1.288677969382023, f(x) =  1.332e-08\n",
      "k =  3, x =  1.288677966823868, f(x) = -4.441e-16\n",
      "\n",
      "After 4 iterations, the approximated solution found is 1.28868.\n"
     ]
    }
   ],
   "source": [
    "def f(x):\n",
    "    return exp(x) + x ** 2 - x - 4\n",
    "\n",
    "def df(x):\n",
    "    return exp(x) + 2 * x - 1\n",
    "\n",
    "x_0 = 1.3\n",
    "\n",
    "x, k = newton(f, df, x_0)\n",
    "\n",
    "print(f'\\nAfter {k} iterations, the approximated solution found is {x:.5f}.')"
   ]
  },
  {
   "cell_type": "markdown",
   "metadata": {},
   "source": [
    "# 3b"
   ]
  },
  {
   "cell_type": "code",
   "execution_count": 19,
   "metadata": {
    "ExecuteTime": {
     "end_time": "2019-10-29T19:44:33.736960Z",
     "start_time": "2019-10-29T19:44:33.729741Z"
    }
   },
   "outputs": [],
   "source": [
    "def fixpoint(g, x0, tol=1.e-6, max_iter=30):\n",
    "    x = x0\n",
    "    print('k ={:3d}, x = {:14.10f}'.format(0, x))  \n",
    "    for k in range(max_iter):        \n",
    "        x_old = x                        # Store old values for error estimation \n",
    "        x = g(x)                         # The iteration\n",
    "        err = abs(x - x_old)               # Error estimate\n",
    "        print('k ={:3d}, x = {:14.10f}'.format(k + 1, x))\n",
    "        if err < tol:          # The solution is accepted \n",
    "            break\n",
    "    return x, k+1"
   ]
  },
  {
   "cell_type": "code",
   "execution_count": 26,
   "metadata": {
    "ExecuteTime": {
     "end_time": "2019-10-29T13:23:45.843101Z",
     "start_time": "2019-10-29T13:23:45.821502Z"
    }
   },
   "outputs": [
    {
     "name": "stdout",
     "output_type": "stream",
     "text": [
      "\n",
      "Function 1:\n",
      "k =  0, x =   1.5000000000\n",
      "k =  1, x =   1.1786549963\n",
      "k =  2, x =   1.3322149248\n",
      "k =  3, x =   1.2690350905\n",
      "k =  4, x =   1.2970764687\n",
      "k =  5, x =   1.2850003170\n",
      "k =  6, x =   1.2902719159\n",
      "k =  7, x =   1.2879840175\n",
      "k =  8, x =   1.2889795000\n",
      "k =  9, x =   1.2885468343\n",
      "k = 10, x =   1.2887349735\n",
      "k = 11, x =   1.2886531806\n",
      "k = 12, x =   1.2886887430\n",
      "k = 13, x =   1.2886732816\n",
      "k = 14, x =   1.2886800038\n",
      "k = 15, x =   1.2886770812\n",
      "k = 16, x =   1.2886783519\n",
      "k = 17, x =   1.2886777994\n",
      "\n",
      "Function 2:\n",
      "k =  0, x =   1.5000000000\n",
      "k =  1, x =   1.0091139329\n",
      "k =  2, x =   1.5053054929\n",
      "k =  3, x =   0.9998878264\n",
      "k =  4, x =   1.5105995169\n",
      "k =  5, x =   0.9905322092\n",
      "k =  6, x =   1.5158710552\n",
      "k =  7, x =   0.9810634053\n",
      "k =  8, x =   1.5211088914\n",
      "k =  9, x =   0.9714992449\n",
      "k = 10, x =   1.5263017049\n",
      "k = 11, x =   0.9618589916\n",
      "k = 12, x =   1.5314381740\n",
      "k = 13, x =   0.9521632379\n",
      "k = 14, x =   1.5365070839\n",
      "k = 15, x =   0.9424337713\n",
      "k = 16, x =   1.5414974395\n",
      "k = 17, x =   0.9326934087\n",
      "k = 18, x =   1.5463985775\n",
      "k = 19, x =   0.9229658020\n",
      "k = 20, x =   1.5512002794\n",
      "k = 21, x =   0.9132752165\n",
      "k = 22, x =   1.5558928786\n",
      "k = 23, x =   0.9036462847\n",
      "k = 24, x =   1.5604673626\n",
      "k = 25, x =   0.8941037426\n",
      "k = 26, x =   1.5649154652\n",
      "k = 27, x =   0.8846721509\n",
      "k = 28, x =   1.5692297481\n",
      "k = 29, x =   0.8753756100\n",
      "k = 30, x =   1.5734036689\n",
      "\n",
      "Function 3:\n",
      "k =  0, x =   1.5000000000\n",
      "k =  1, x =   2.7316890703\n",
      "k =  2, x =  18.8209324059\n",
      "k =  3, x = 149220368.2729534507\n",
      "k =  4, x =            inf\n",
      "k =  5, x =            inf\n",
      "k =  6, x =            inf\n",
      "k =  7, x =            inf\n",
      "k =  8, x =            inf\n",
      "k =  9, x =            inf\n",
      "k = 10, x =            inf\n",
      "k = 11, x =            inf\n",
      "k = 12, x =            inf\n",
      "k = 13, x =            inf\n",
      "k = 14, x =            inf\n",
      "k = 15, x =            inf\n",
      "k = 16, x =            inf\n",
      "k = 17, x =            inf\n",
      "k = 18, x =            inf\n",
      "k = 19, x =            inf\n",
      "k = 20, x =            inf\n",
      "k = 21, x =            inf\n",
      "k = 22, x =            inf\n",
      "k = 23, x =            inf\n",
      "k = 24, x =            inf\n",
      "k = 25, x =            inf\n",
      "k = 26, x =            inf\n",
      "k = 27, x =            inf\n",
      "k = 28, x =            inf\n",
      "k = 29, x =            inf\n",
      "k = 30, x =            inf\n"
     ]
    },
    {
     "name": "stderr",
     "output_type": "stream",
     "text": [
      "/opt/conda/lib/python3.6/site-packages/ipykernel_launcher.py:8: RuntimeWarning: overflow encountered in exp\n",
      "  \n",
      "/opt/conda/lib/python3.6/site-packages/ipykernel_launcher.py:7: RuntimeWarning: invalid value encountered in double_scalars\n",
      "  import sys\n"
     ]
    }
   ],
   "source": [
    "def g1(x):\n",
    "    return log(4 + x - x ** 2)\n",
    "\n",
    "def g2(x):\n",
    "    return sqrt(-exp(x) + x + 4)\n",
    "\n",
    "def g3(x):\n",
    "    return exp(x) + x ** 2 - 4\n",
    "\n",
    "\n",
    "gs = [g1, g2, g3]\n",
    "x_0 = 1.5\n",
    "\n",
    "\n",
    "for i, g in enumerate(gs, start=1):\n",
    "\n",
    "    print(f'\\nFunction {i}:')\n",
    "    x, k = fixpoint(g, x_0)"
   ]
  },
  {
   "cell_type": "markdown",
   "metadata": {},
   "source": [
    "# 4c"
   ]
  },
  {
   "cell_type": "code",
   "execution_count": 23,
   "metadata": {
    "ExecuteTime": {
     "end_time": "2019-10-29T19:49:25.596526Z",
     "start_time": "2019-10-29T19:49:25.581357Z"
    }
   },
   "outputs": [
    {
     "name": "stdout",
     "output_type": "stream",
     "text": [
      "k =  0, x =   0.7853981634\n",
      "k =  1, x =   0.7071067812\n",
      "k =  2, x =   0.7602445971\n",
      "k =  3, x =   0.7246674809\n",
      "k =  4, x =   0.7487198858\n",
      "k =  5, x =   0.7325608446\n",
      "k =  6, x =   0.7434642113\n",
      "k =  7, x =   0.7361282565\n",
      "k =  8, x =   0.7410736871\n",
      "k =  9, x =   0.7377441590\n",
      "k = 10, x =   0.7399877648\n",
      "k = 11, x =   0.7384768087\n",
      "k = 12, x =   0.7394947711\n",
      "k = 13, x =   0.7388091342\n",
      "k = 14, x =   0.7392710213\n",
      "k = 15, x =   0.7389599040\n",
      "k = 16, x =   0.7391694833\n",
      "k = 17, x =   0.7390283113\n",
      "k = 18, x =   0.7391234079\n",
      "k = 19, x =   0.7390593504\n",
      "k = 20, x =   0.7391025006\n",
      "k = 21, x =   0.7390734342\n",
      "k = 22, x =   0.7390930137\n",
      "k = 23, x =   0.7390798248\n",
      "k = 24, x =   0.7390887090\n",
      "k = 25, x =   0.7390827245\n",
      "k = 26, x =   0.7390867558\n",
      "k = 27, x =   0.7390840403\n",
      "k = 28, x =   0.7390858694\n",
      "k = 29, x =   0.7390846373\n",
      "k = 30, x =   0.7390854673\n"
     ]
    }
   ],
   "source": [
    "def g(x):\n",
    "    #Inverse of arccos(x)\n",
    "    return cos(x)\n",
    "\n",
    "#We are somewhat close to g(x)=x at pi/4\n",
    "x_0 = pi/4\n",
    "\n",
    "x, k = fixpoint(g, x_0,max_iter=50)"
   ]
  },
  {
   "cell_type": "markdown",
   "metadata": {},
   "source": [
    "# 5b"
   ]
  },
  {
   "cell_type": "code",
   "execution_count": 13,
   "metadata": {
    "ExecuteTime": {
     "end_time": "2019-10-29T19:09:07.157579Z",
     "start_time": "2019-10-29T19:09:07.150261Z"
    }
   },
   "outputs": [],
   "source": [
    "def newton_system(f, jac, x0, tol = 1.e-10, max_iter=20):\n",
    "    x = x0\n",
    "    print('k ={:3d}, x = '.format(0), x)\n",
    "    for k in range(max_iter):\n",
    "        fx = f(x)\n",
    "        if norm(fx, inf) < tol:\n",
    "            break\n",
    "        Jx = jac(x)\n",
    "        delta = solve(Jx, -fx) \n",
    "        x = x + delta\n",
    "        print('k ={:3d}, x = '.format(k+1), x)\n",
    "    return x, k + 1"
   ]
  },
  {
   "cell_type": "code",
   "execution_count": 35,
   "metadata": {
    "ExecuteTime": {
     "end_time": "2019-10-29T19:57:26.340496Z",
     "start_time": "2019-10-29T19:57:26.319045Z"
    }
   },
   "outputs": [
    {
     "name": "stdout",
     "output_type": "stream",
     "text": [
      "k =  0, x =  [ 2.  0.]\n",
      "k =  1, x =  [ 2.   0.5]\n",
      "k =  2, x =  [ 1.93333333  0.51666667]\n",
      "k =  3, x =  [ 1.93185274  0.51763705]\n",
      "k =  4, x =  [ 1.93185165  0.51763809]\n",
      "k =  5, x =  [ 1.93185165  0.51763809]\n",
      "\n",
      "Apply approximated x: f(x)=[ -4.44089210e-16   0.00000000e+00]\n"
     ]
    }
   ],
   "source": [
    "def f(x):               \n",
    "    return array([x[0]**2 + x[1]**2 - 4, \n",
    "                  x[0] * x[1] - 1])\n",
    "\n",
    "def jac(x):\n",
    "    J = array(\n",
    "        [[2 * x[0], 2*x[1]],\n",
    "         [x[1], x[0]]])\n",
    "    return J\n",
    "\n",
    "x0 = array([2.0, 0.0])\n",
    "max_iter = 10\n",
    "x, nit = newton_system(f, jac, x0, tol=1.e-12, max_iter=max_iter)\n",
    "\n",
    "print(f'\\nApply approximated x: f(x)={f(x)}')\n",
    "if nit == max_iter:\n",
    "    print('Not convergent')"
   ]
  },
  {
   "cell_type": "markdown",
   "metadata": {},
   "source": [
    "# 5c"
   ]
  },
  {
   "cell_type": "code",
   "execution_count": 34,
   "metadata": {
    "ExecuteTime": {
     "end_time": "2019-10-29T19:56:20.782990Z",
     "start_time": "2019-10-29T19:56:20.691649Z"
    }
   },
   "outputs": [
    {
     "name": "stdout",
     "output_type": "stream",
     "text": [
      "k =  0, x =  [ 2.  0.]\n",
      "k =  1, x =  [ 1.5  0.5]\n",
      "k =  2, x =  [ 1.25  0.75]\n",
      "k =  3, x =  [ 1.125  0.875]\n",
      "k =  4, x =  [ 1.0625  0.9375]\n",
      "k =  5, x =  [ 1.03125  0.96875]\n",
      "k =  6, x =  [ 1.015625  0.984375]\n",
      "k =  7, x =  [ 1.0078125  0.9921875]\n",
      "k =  8, x =  [ 1.00390625  0.99609375]\n",
      "k =  9, x =  [ 1.00195312  0.99804688]\n",
      "k = 10, x =  [ 1.00097656  0.99902344]\n",
      "k = 11, x =  [ 1.00048828  0.99951172]\n",
      "k = 12, x =  [ 1.00024414  0.99975586]\n",
      "k = 13, x =  [ 1.00012207  0.99987793]\n",
      "k = 14, x =  [ 1.00006104  0.99993896]\n",
      "k = 15, x =  [ 1.00003052  0.99996948]\n",
      "k = 16, x =  [ 1.00001526  0.99998474]\n",
      "k = 17, x =  [ 1.00000763  0.99999237]\n",
      "k = 18, x =  [ 1.00000381  0.99999619]\n",
      "k = 19, x =  [ 1.00000191  0.99999809]\n",
      "k = 20, x =  [ 1.00000095  0.99999905]\n",
      "k = 21, x =  [ 1.00000048  0.99999952]\n",
      "\n",
      "Apply approximated x: f(x)=[  4.54747351e-13  -2.27373675e-13]\n"
     ]
    }
   ],
   "source": [
    "def f(x):               \n",
    "    return array([x[0]**2 + x[1]**2 - 2, \n",
    "                  x[0] * x[1] - 1])\n",
    "\n",
    "def jac(x):\n",
    "    J = array(\n",
    "        [[2 * x[0], 2 * x[1]],\n",
    "         [x[1], x[0]]])\n",
    "    return J\n",
    "\n",
    "x0 = array([2.0, 0.0])\n",
    "x, nit = newton_system(f, jac, x0, tol=1.e-12, max_iter=40)\n",
    "\n",
    "print(f'\\nApply approximated x: f(x)={f(x)}')\n",
    "if nit == max_iter:\n",
    "    print('Not convergent')"
   ]
  },
  {
   "cell_type": "code",
   "execution_count": null,
   "metadata": {},
   "outputs": [],
   "source": []
  }
 ],
 "metadata": {
  "kernelspec": {
   "display_name": "Python 3",
   "language": "python",
   "name": "python3"
  },
  "language_info": {
   "codemirror_mode": {
    "name": "ipython",
    "version": 3
   },
   "file_extension": ".py",
   "mimetype": "text/x-python",
   "name": "python",
   "nbconvert_exporter": "python",
   "pygments_lexer": "ipython3",
   "version": "3.6.7"
  },
  "toc": {
   "base_numbering": 1,
   "nav_menu": {},
   "number_sections": true,
   "sideBar": true,
   "skip_h1_title": false,
   "title_cell": "Table of Contents",
   "title_sidebar": "Contents",
   "toc_cell": false,
   "toc_position": {},
   "toc_section_display": true,
   "toc_window_display": false
  }
 },
 "nbformat": 4,
 "nbformat_minor": 2
}
